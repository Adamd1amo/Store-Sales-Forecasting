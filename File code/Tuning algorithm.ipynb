{
 "cells": [
  {
   "cell_type": "code",
   "execution_count": 209,
   "id": "2715a529",
   "metadata": {},
   "outputs": [],
   "source": [
    "import numpy as np\n",
    "import pandas as pd\n",
    "import matplotlib.pyplot as plt\n",
    "import seaborn as sns\n",
    "import plotly.express as px\n",
    "\n",
    "\n",
    "%matplotlib inline"
   ]
  },
  {
   "cell_type": "code",
   "execution_count": 210,
   "id": "6958bfb6",
   "metadata": {},
   "outputs": [],
   "source": [
    "walmart = pd.read_csv('train.csv')\n",
    "stores = pd.read_csv('stores.csv')\n",
    "features = pd.read_csv('features.csv')\n",
    "testing = pd.read_csv('test.csv')"
   ]
  },
  {
   "cell_type": "code",
   "execution_count": 211,
   "id": "bd06e613",
   "metadata": {},
   "outputs": [],
   "source": [
    "merged = walmart.merge(stores, how='left').merge(features, how='left')\n",
    "testing_merged = testing.merge(stores, how='left').merge(features, how='left')"
   ]
  },
  {
   "cell_type": "code",
   "execution_count": 212,
   "id": "8cefe931",
   "metadata": {},
   "outputs": [],
   "source": [
    "def split_date(df):\n",
    "    df['Date'] = pd.to_datetime(df['Date'])\n",
    "    df['Year'] = df.Date.dt.year\n",
    "    df['Month'] = df.Date.dt.month\n",
    "    df['Day'] = df.Date.dt.day\n",
    "    df['WeekOfYear'] = (df.Date.dt.isocalendar().week)*1.0   \n",
    "    \n",
    "split_date(merged) \n",
    "split_date(testing_merged)"
   ]
  },
  {
   "cell_type": "code",
   "execution_count": 213,
   "id": "5f71c861",
   "metadata": {},
   "outputs": [],
   "source": [
    "storetype_values = {'A':3, 'B':2, 'C':1}\n",
    "merged['Type_Numeric'] = merged.Type.map(storetype_values)\n",
    "testing_merged['Type_Numeric'] = testing_merged.Type.map(storetype_values)\n",
    "\n",
    "merged['IsHoliday'] = merged['IsHoliday'].apply(lambda x:1 if x == True else 0)\n",
    "testing_merged['IsHoliday'] = merged['IsHoliday'].apply(lambda x:1 if x == True else 0)"
   ]
  },
  {
   "cell_type": "code",
   "execution_count": 214,
   "id": "99d8e67e",
   "metadata": {},
   "outputs": [],
   "source": [
    "merged.fillna(0,inplace = True)\n",
    "testing_merged['CPI'].fillna(testing_merged['CPI'].mean, inplace = True)\n",
    "testing_merged['Unemployment'].fillna(testing_merged['Unemployment'].mean, inplace = True)\n",
    "testing_merged['MarkDown1'].fillna(0, inplace = True)\n",
    "testing_merged['MarkDown2'].fillna(0, inplace = True)\n",
    "testing_merged['MarkDown3'].fillna(0, inplace = True)\n",
    "testing_merged['MarkDown4'].fillna(0, inplace = True)"
   ]
  },
  {
   "cell_type": "code",
   "execution_count": 215,
   "id": "4b980159",
   "metadata": {},
   "outputs": [],
   "source": [
    "merged_1 = merged.drop(['Date', 'Temperature','Fuel_Price', 'Type', 'MarkDown1','MarkDown2','MarkDown3',\n",
    "             'MarkDown4', 'MarkDown5', 'CPI', 'Unemployment', 'Month', 'Day'], axis=1)\n",
    "\n",
    "testing_1 = testing_merged.drop(['Date', 'Temperature','Fuel_Price', 'Type', 'MarkDown1','MarkDown2','MarkDown3',\n",
    "             'MarkDown4', 'MarkDown5', 'CPI', 'Unemployment', 'Month', 'Day'], axis=1)"
   ]
  },
  {
   "cell_type": "code",
   "execution_count": 216,
   "id": "b6e40a19",
   "metadata": {},
   "outputs": [],
   "source": [
    "input_cols = merged_1.columns.to_list()\n",
    "input_cols.remove('Weekly_Sales')\n",
    "target_col = 'Weekly_Sales'\n",
    "\n",
    "inputs_df = merged_1[input_cols].copy()\n",
    "targets = merged_1[target_col].copy()"
   ]
  },
  {
   "cell_type": "code",
   "execution_count": 217,
   "id": "04d26422",
   "metadata": {},
   "outputs": [],
   "source": [
    "from sklearn.preprocessing import MinMaxScaler\n",
    "\n",
    "scaler = MinMaxScaler().fit(inputs_df[input_cols])\n",
    "\n",
    "inputs_df[input_cols] = scaler.transform(inputs_df[input_cols])\n",
    "testing_1[input_cols] = scaler.transform(testing_merged[input_cols])"
   ]
  },
  {
   "cell_type": "code",
   "execution_count": 218,
   "id": "1ece23bc",
   "metadata": {},
   "outputs": [
    {
     "data": {
      "text/html": [
       "<div>\n",
       "<style scoped>\n",
       "    .dataframe tbody tr th:only-of-type {\n",
       "        vertical-align: middle;\n",
       "    }\n",
       "\n",
       "    .dataframe tbody tr th {\n",
       "        vertical-align: top;\n",
       "    }\n",
       "\n",
       "    .dataframe thead th {\n",
       "        text-align: right;\n",
       "    }\n",
       "</style>\n",
       "<table border=\"1\" class=\"dataframe\">\n",
       "  <thead>\n",
       "    <tr style=\"text-align: right;\">\n",
       "      <th></th>\n",
       "      <th>Store</th>\n",
       "      <th>Dept</th>\n",
       "      <th>IsHoliday</th>\n",
       "      <th>Size</th>\n",
       "      <th>Year</th>\n",
       "      <th>WeekOfYear</th>\n",
       "      <th>Type_Numeric</th>\n",
       "    </tr>\n",
       "  </thead>\n",
       "  <tbody>\n",
       "    <tr>\n",
       "      <th>0</th>\n",
       "      <td>0.0</td>\n",
       "      <td>0.0</td>\n",
       "      <td>0.0</td>\n",
       "      <td>0.630267</td>\n",
       "      <td>0.0</td>\n",
       "      <td>0.078431</td>\n",
       "      <td>1.0</td>\n",
       "    </tr>\n",
       "    <tr>\n",
       "      <th>1</th>\n",
       "      <td>0.0</td>\n",
       "      <td>0.0</td>\n",
       "      <td>1.0</td>\n",
       "      <td>0.630267</td>\n",
       "      <td>0.0</td>\n",
       "      <td>0.098039</td>\n",
       "      <td>1.0</td>\n",
       "    </tr>\n",
       "    <tr>\n",
       "      <th>2</th>\n",
       "      <td>0.0</td>\n",
       "      <td>0.0</td>\n",
       "      <td>0.0</td>\n",
       "      <td>0.630267</td>\n",
       "      <td>0.0</td>\n",
       "      <td>0.117647</td>\n",
       "      <td>1.0</td>\n",
       "    </tr>\n",
       "    <tr>\n",
       "      <th>3</th>\n",
       "      <td>0.0</td>\n",
       "      <td>0.0</td>\n",
       "      <td>0.0</td>\n",
       "      <td>0.630267</td>\n",
       "      <td>0.0</td>\n",
       "      <td>0.137255</td>\n",
       "      <td>1.0</td>\n",
       "    </tr>\n",
       "    <tr>\n",
       "      <th>4</th>\n",
       "      <td>0.0</td>\n",
       "      <td>0.0</td>\n",
       "      <td>0.0</td>\n",
       "      <td>0.630267</td>\n",
       "      <td>0.0</td>\n",
       "      <td>0.156863</td>\n",
       "      <td>1.0</td>\n",
       "    </tr>\n",
       "    <tr>\n",
       "      <th>5</th>\n",
       "      <td>0.0</td>\n",
       "      <td>0.0</td>\n",
       "      <td>0.0</td>\n",
       "      <td>0.630267</td>\n",
       "      <td>0.0</td>\n",
       "      <td>0.176471</td>\n",
       "      <td>1.0</td>\n",
       "    </tr>\n",
       "    <tr>\n",
       "      <th>6</th>\n",
       "      <td>0.0</td>\n",
       "      <td>0.0</td>\n",
       "      <td>0.0</td>\n",
       "      <td>0.630267</td>\n",
       "      <td>0.0</td>\n",
       "      <td>0.196078</td>\n",
       "      <td>1.0</td>\n",
       "    </tr>\n",
       "    <tr>\n",
       "      <th>7</th>\n",
       "      <td>0.0</td>\n",
       "      <td>0.0</td>\n",
       "      <td>0.0</td>\n",
       "      <td>0.630267</td>\n",
       "      <td>0.0</td>\n",
       "      <td>0.215686</td>\n",
       "      <td>1.0</td>\n",
       "    </tr>\n",
       "    <tr>\n",
       "      <th>8</th>\n",
       "      <td>0.0</td>\n",
       "      <td>0.0</td>\n",
       "      <td>0.0</td>\n",
       "      <td>0.630267</td>\n",
       "      <td>0.0</td>\n",
       "      <td>0.235294</td>\n",
       "      <td>1.0</td>\n",
       "    </tr>\n",
       "    <tr>\n",
       "      <th>9</th>\n",
       "      <td>0.0</td>\n",
       "      <td>0.0</td>\n",
       "      <td>0.0</td>\n",
       "      <td>0.630267</td>\n",
       "      <td>0.0</td>\n",
       "      <td>0.254902</td>\n",
       "      <td>1.0</td>\n",
       "    </tr>\n",
       "    <tr>\n",
       "      <th>10</th>\n",
       "      <td>0.0</td>\n",
       "      <td>0.0</td>\n",
       "      <td>0.0</td>\n",
       "      <td>0.630267</td>\n",
       "      <td>0.0</td>\n",
       "      <td>0.274510</td>\n",
       "      <td>1.0</td>\n",
       "    </tr>\n",
       "    <tr>\n",
       "      <th>11</th>\n",
       "      <td>0.0</td>\n",
       "      <td>0.0</td>\n",
       "      <td>0.0</td>\n",
       "      <td>0.630267</td>\n",
       "      <td>0.0</td>\n",
       "      <td>0.294118</td>\n",
       "      <td>1.0</td>\n",
       "    </tr>\n",
       "    <tr>\n",
       "      <th>12</th>\n",
       "      <td>0.0</td>\n",
       "      <td>0.0</td>\n",
       "      <td>0.0</td>\n",
       "      <td>0.630267</td>\n",
       "      <td>0.0</td>\n",
       "      <td>0.313725</td>\n",
       "      <td>1.0</td>\n",
       "    </tr>\n",
       "    <tr>\n",
       "      <th>13</th>\n",
       "      <td>0.0</td>\n",
       "      <td>0.0</td>\n",
       "      <td>0.0</td>\n",
       "      <td>0.630267</td>\n",
       "      <td>0.0</td>\n",
       "      <td>0.333333</td>\n",
       "      <td>1.0</td>\n",
       "    </tr>\n",
       "    <tr>\n",
       "      <th>14</th>\n",
       "      <td>0.0</td>\n",
       "      <td>0.0</td>\n",
       "      <td>0.0</td>\n",
       "      <td>0.630267</td>\n",
       "      <td>0.0</td>\n",
       "      <td>0.352941</td>\n",
       "      <td>1.0</td>\n",
       "    </tr>\n",
       "    <tr>\n",
       "      <th>15</th>\n",
       "      <td>0.0</td>\n",
       "      <td>0.0</td>\n",
       "      <td>0.0</td>\n",
       "      <td>0.630267</td>\n",
       "      <td>0.0</td>\n",
       "      <td>0.372549</td>\n",
       "      <td>1.0</td>\n",
       "    </tr>\n",
       "    <tr>\n",
       "      <th>16</th>\n",
       "      <td>0.0</td>\n",
       "      <td>0.0</td>\n",
       "      <td>0.0</td>\n",
       "      <td>0.630267</td>\n",
       "      <td>0.0</td>\n",
       "      <td>0.392157</td>\n",
       "      <td>1.0</td>\n",
       "    </tr>\n",
       "    <tr>\n",
       "      <th>17</th>\n",
       "      <td>0.0</td>\n",
       "      <td>0.0</td>\n",
       "      <td>0.0</td>\n",
       "      <td>0.630267</td>\n",
       "      <td>0.0</td>\n",
       "      <td>0.411765</td>\n",
       "      <td>1.0</td>\n",
       "    </tr>\n",
       "    <tr>\n",
       "      <th>18</th>\n",
       "      <td>0.0</td>\n",
       "      <td>0.0</td>\n",
       "      <td>0.0</td>\n",
       "      <td>0.630267</td>\n",
       "      <td>0.0</td>\n",
       "      <td>0.431373</td>\n",
       "      <td>1.0</td>\n",
       "    </tr>\n",
       "    <tr>\n",
       "      <th>19</th>\n",
       "      <td>0.0</td>\n",
       "      <td>0.0</td>\n",
       "      <td>0.0</td>\n",
       "      <td>0.630267</td>\n",
       "      <td>0.0</td>\n",
       "      <td>0.450980</td>\n",
       "      <td>1.0</td>\n",
       "    </tr>\n",
       "  </tbody>\n",
       "</table>\n",
       "</div>"
      ],
      "text/plain": [
       "    Store  Dept  IsHoliday      Size  Year  WeekOfYear  Type_Numeric\n",
       "0     0.0   0.0        0.0  0.630267   0.0    0.078431           1.0\n",
       "1     0.0   0.0        1.0  0.630267   0.0    0.098039           1.0\n",
       "2     0.0   0.0        0.0  0.630267   0.0    0.117647           1.0\n",
       "3     0.0   0.0        0.0  0.630267   0.0    0.137255           1.0\n",
       "4     0.0   0.0        0.0  0.630267   0.0    0.156863           1.0\n",
       "5     0.0   0.0        0.0  0.630267   0.0    0.176471           1.0\n",
       "6     0.0   0.0        0.0  0.630267   0.0    0.196078           1.0\n",
       "7     0.0   0.0        0.0  0.630267   0.0    0.215686           1.0\n",
       "8     0.0   0.0        0.0  0.630267   0.0    0.235294           1.0\n",
       "9     0.0   0.0        0.0  0.630267   0.0    0.254902           1.0\n",
       "10    0.0   0.0        0.0  0.630267   0.0    0.274510           1.0\n",
       "11    0.0   0.0        0.0  0.630267   0.0    0.294118           1.0\n",
       "12    0.0   0.0        0.0  0.630267   0.0    0.313725           1.0\n",
       "13    0.0   0.0        0.0  0.630267   0.0    0.333333           1.0\n",
       "14    0.0   0.0        0.0  0.630267   0.0    0.352941           1.0\n",
       "15    0.0   0.0        0.0  0.630267   0.0    0.372549           1.0\n",
       "16    0.0   0.0        0.0  0.630267   0.0    0.392157           1.0\n",
       "17    0.0   0.0        0.0  0.630267   0.0    0.411765           1.0\n",
       "18    0.0   0.0        0.0  0.630267   0.0    0.431373           1.0\n",
       "19    0.0   0.0        0.0  0.630267   0.0    0.450980           1.0"
      ]
     },
     "execution_count": 218,
     "metadata": {},
     "output_type": "execute_result"
    }
   ],
   "source": [
    "inputs_df.head(20)"
   ]
  },
  {
   "cell_type": "code",
   "execution_count": 219,
   "id": "a4923bc9",
   "metadata": {},
   "outputs": [],
   "source": [
    "from sklearn.model_selection import train_test_split\n",
    "\n",
    "train_inputs, val_inputs, train_targets, val_targets = train_test_split(\n",
    "    inputs_df, targets, test_size=0.3, random_state=42)"
   ]
  },
  {
   "cell_type": "code",
   "execution_count": 220,
   "id": "1387fe1b",
   "metadata": {},
   "outputs": [],
   "source": [
    "def WMAE(df, targets, predictions):\n",
    "    weights = df.IsHoliday.apply(lambda x: 5 if x else 1)\n",
    "    return np.round(np.sum(weights*abs(targets-predictions))/(np.sum(weights)), 2)"
   ]
  },
  {
   "cell_type": "code",
   "execution_count": 221,
   "id": "bcbf6334",
   "metadata": {},
   "outputs": [],
   "source": [
    "import time\n",
    "def evaluate_runtime_model (model, pred_df, target_df):\n",
    "    run_time = []\n",
    "    for _ in range(10):\n",
    "        start_time = time.time()\n",
    "        model.fit(pred_df,target_df)\n",
    "        model_result = model.predict(pred_df)\n",
    "        end_time = time.time()\n",
    "        run_time.append(end_time - start_time)\n",
    "        \n",
    "        WMAEs = WMAE(pred_df,target_df,model_result)\n",
    "        \n",
    "        run_time = np.mean(run_time)\n",
    "        \n",
    "        results = {'time': run_time, 'Weighted mean absolute error': WMAEs}\n",
    "        \n",
    "        return run_time,WMAEs"
   ]
  },
  {
   "cell_type": "code",
   "execution_count": 222,
   "id": "7be660c5",
   "metadata": {},
   "outputs": [
    {
     "name": "stdout",
     "output_type": "stream",
     "text": [
      "(6.543325424194336, 673.43)\n"
     ]
    }
   ],
   "source": [
    "from sklearn.ensemble import RandomForestRegressor\n",
    "\n",
    "\n",
    "rf1 = RandomForestRegressor(n_jobs=-1, random_state=42)\n",
    "\n",
    "rf1.fit(train_inputs, train_targets)\n",
    "print(evaluate_runtime_model(rf1,val_inputs,val_targets))"
   ]
  },
  {
   "cell_type": "code",
   "execution_count": 223,
   "id": "8b5ae033",
   "metadata": {},
   "outputs": [
    {
     "name": "stdout",
     "output_type": "stream",
     "text": [
      "(5.481006383895874, 673.58)\n"
     ]
    }
   ],
   "source": [
    "rf2 = RandomForestRegressor(n_estimators = 92, max_features = 7,\n",
    "                            max_depth = 110, bootstrap = True,n_jobs=-1, random_state=42)\n",
    "\n",
    "rf2.fit(train_inputs, train_targets)\n",
    "print(evaluate_runtime_model(rf2,val_inputs,val_targets))"
   ]
  },
  {
   "cell_type": "code",
   "execution_count": 224,
   "id": "19c77e98",
   "metadata": {},
   "outputs": [
    {
     "data": {
      "text/plain": [
       "RandomForestRegressor(max_depth=110, max_features=7, n_estimators=92, n_jobs=-1,\n",
       "                      random_state=42)"
      ]
     },
     "execution_count": 224,
     "metadata": {},
     "output_type": "execute_result"
    }
   ],
   "source": [
    "rf2"
   ]
  },
  {
   "cell_type": "code",
   "execution_count": 225,
   "id": "17d81729",
   "metadata": {},
   "outputs": [
    {
     "name": "stdout",
     "output_type": "stream",
     "text": [
      "(14.704982042312622, 670.86)\n"
     ]
    }
   ],
   "source": [
    "rf3 = RandomForestRegressor(n_estimators = 130, max_features = 7,\n",
    "                            max_depth = 85, bootstrap = True,n_jobs=-1, random_state=42)\n",
    "\n",
    "rf3.fit(train_inputs, train_targets)\n",
    "print(evaluate_runtime_model(rf3,val_inputs,val_targets))"
   ]
  },
  {
   "cell_type": "code",
   "execution_count": 226,
   "id": "3a201017",
   "metadata": {},
   "outputs": [
    {
     "name": "stdout",
     "output_type": "stream",
     "text": [
      "(10.392449617385864, 670.86)\n"
     ]
    }
   ],
   "source": [
    "rf4 = RandomForestRegressor(n_estimators = 80, max_features = 7, bootstrap = True,n_jobs=-1, random_state=42)\n",
    "\n",
    "rf4.fit(train_inputs, train_targets)\n",
    "print(evaluate_runtime_model(rf3,val_inputs,val_targets))"
   ]
  },
  {
   "cell_type": "code",
   "execution_count": 227,
   "id": "50e5f59e",
   "metadata": {},
   "outputs": [],
   "source": [
    "test_predit = rf2.predict(testing_1)\n",
    "testing_merged['Weekly_Sales'] = test_predit\n",
    "submission = pd.read_csv('sampleSubmission.csv')\n",
    "\n",
    "\n",
    "submission['Weekly_Sales'] = test_predit\n",
    "submission.to_csv('submission.csv',index=False)"
   ]
  }
 ],
 "metadata": {
  "kernelspec": {
   "display_name": "Python 3 (ipykernel)",
   "language": "python",
   "name": "python3"
  },
  "language_info": {
   "codemirror_mode": {
    "name": "ipython",
    "version": 3
   },
   "file_extension": ".py",
   "mimetype": "text/x-python",
   "name": "python",
   "nbconvert_exporter": "python",
   "pygments_lexer": "ipython3",
   "version": "3.10.4"
  }
 },
 "nbformat": 4,
 "nbformat_minor": 5
}
